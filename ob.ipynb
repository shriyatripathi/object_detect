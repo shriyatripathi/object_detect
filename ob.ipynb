{
 "cells": [
  {
   "cell_type": "code",
   "execution_count": 28,
   "metadata": {},
   "outputs": [
    {
     "name": "stdout",
     "output_type": "stream",
     "text": [
      "Requirement already satisfied: torch in c:\\users\\shriya\\anaconda3\\lib\\site-packages (2.0.1)\n",
      "Requirement already satisfied: torchvision in c:\\users\\shriya\\anaconda3\\lib\\site-packages (0.15.2)\n",
      "Requirement already satisfied: filelock in c:\\users\\shriya\\anaconda3\\lib\\site-packages (from torch) (3.9.0)\n",
      "Requirement already satisfied: typing-extensions in c:\\users\\shriya\\anaconda3\\lib\\site-packages (from torch) (4.4.0)\n",
      "Requirement already satisfied: sympy in c:\\users\\shriya\\anaconda3\\lib\\site-packages (from torch) (1.11.1)\n",
      "Requirement already satisfied: networkx in c:\\users\\shriya\\anaconda3\\lib\\site-packages (from torch) (2.8.4)\n",
      "Requirement already satisfied: jinja2 in c:\\users\\shriya\\anaconda3\\lib\\site-packages (from torch) (3.1.2)\n",
      "Requirement already satisfied: numpy in c:\\users\\shriya\\anaconda3\\lib\\site-packages (from torchvision) (1.23.5)\n",
      "Requirement already satisfied: requests in c:\\users\\shriya\\anaconda3\\lib\\site-packages (from torchvision) (2.28.1)\n",
      "Requirement already satisfied: pillow!=8.3.*,>=5.3.0 in c:\\users\\shriya\\anaconda3\\lib\\site-packages (from torchvision) (9.4.0)\n",
      "Requirement already satisfied: MarkupSafe>=2.0 in c:\\users\\shriya\\anaconda3\\lib\\site-packages (from jinja2->torch) (2.1.1)\n",
      "Requirement already satisfied: charset-normalizer<3,>=2 in c:\\users\\shriya\\anaconda3\\lib\\site-packages (from requests->torchvision) (2.0.4)\n",
      "Requirement already satisfied: idna<4,>=2.5 in c:\\users\\shriya\\anaconda3\\lib\\site-packages (from requests->torchvision) (3.4)\n",
      "Requirement already satisfied: urllib3<1.27,>=1.21.1 in c:\\users\\shriya\\anaconda3\\lib\\site-packages (from requests->torchvision) (1.26.14)\n",
      "Requirement already satisfied: certifi>=2017.4.17 in c:\\users\\shriya\\anaconda3\\lib\\site-packages (from requests->torchvision) (2022.12.7)\n",
      "Requirement already satisfied: mpmath>=0.19 in c:\\users\\shriya\\anaconda3\\lib\\site-packages (from sympy->torch) (1.2.1)\n",
      "Note: you may need to restart the kernel to use updated packages.\n"
     ]
    },
    {
     "name": "stderr",
     "output_type": "stream",
     "text": [
      "UsageError: Line magic function `%git` not found.\n"
     ]
    }
   ],
   "source": [
    "#installing / importing dependencies\n",
    "%pip install torch torchvision\n",
    "%git clone https://github.com/ultralytics/yolov5\n",
    "%cd yolov5 && pip install -r requirements.txt\n"
   ]
  },
  {
   "cell_type": "code",
   "execution_count": 29,
   "metadata": {},
   "outputs": [],
   "source": [
    "import torch\n",
    "from matplotlib import pyplot as plt\n",
    "import numpy as np\n",
    "import cv2"
   ]
  },
  {
   "cell_type": "code",
   "execution_count": 30,
   "metadata": {},
   "outputs": [
    {
     "name": "stderr",
     "output_type": "stream",
     "text": [
      "Using cache found in C:\\Users\\Shriya/.cache\\torch\\hub\\ultralytics_yolov5_master\n",
      "YOLOv5  2023-6-30 Python-3.10.9 torch-2.0.1+cpu CPU\n",
      "\n",
      "Downloading https://github.com/ultralytics/yolov5/releases/download/v7.0/yolov5s.pt to yolov5s.pt...\n",
      "100%|██████████| 14.1M/14.1M [00:01<00:00, 9.12MB/s]\n",
      "\n",
      "Fusing layers... \n",
      "YOLOv5s summary: 213 layers, 7225885 parameters, 0 gradients\n",
      "Adding AutoShape... \n"
     ]
    }
   ],
   "source": [
    "model = torch.hub.load('ultralytics/yolov5', 'yolov5s')#load model\n"
   ]
  },
  {
   "attachments": {},
   "cell_type": "markdown",
   "metadata": {},
   "source": []
  },
  {
   "cell_type": "code",
   "execution_count": 31,
   "metadata": {},
   "outputs": [],
   "source": [
    "img=r\"C:\\Users\\Shriya\\OneDrive\\Pictures\\Camera Roll\\WIN_20200910_06_54_51_Pro.jpg\"#making detections using an image"
   ]
  },
  {
   "cell_type": "code",
   "execution_count": 32,
   "metadata": {},
   "outputs": [
    {
     "name": "stderr",
     "output_type": "stream",
     "text": [
      "image 1/1: 480x640 1 person, 1 tie\n",
      "Speed: 17.6ms pre-process, 1118.0ms inference, 0.0ms NMS per image at shape (1, 3, 480, 640)\n"
     ]
    }
   ],
   "source": [
    "results = model(img)\n",
    "results.print()"
   ]
  },
  {
   "cell_type": "code",
   "execution_count": 33,
   "metadata": {},
   "outputs": [],
   "source": [
    "cap = cv2.VideoCapture(0)#real time detection\n",
    "while cap.isOpened():\n",
    "    ret, frame = cap.read()\n",
    "    \n",
    "    # Make detections \n",
    "    results = model(frame)\n",
    "    \n",
    "    cv2.imshow('YOLO', np.squeeze(results.render()))\n",
    "    \n",
    "    if cv2.waitKey(10) & 0xFF == ord('q'):\n",
    "        break\n",
    "cap.release()\n",
    "cv2.destroyAllWindows()"
   ]
  },
  {
   "attachments": {},
   "cell_type": "markdown",
   "metadata": {},
   "source": []
  },
  {
   "cell_type": "code",
   "execution_count": 34,
   "metadata": {},
   "outputs": [],
   "source": [
    "import uuid   # Unique identifier\n",
    "import os\n",
    "import time\n",
    "import sys\n",
    "\n",
    "#I was getting an error,not necessary to implement\n",
    "current_dir = os.getcwd()\n",
    "# Get the absolute path of the 'libs' folder relative to the current directory\n",
    "libs_path = os.path.join(current_dir, 'libs')\n",
    "\n",
    "# Add the 'libs' path to the Python path\n",
    "sys.path.append(libs_path)"
   ]
  },
  {
   "cell_type": "code",
   "execution_count": 35,
   "metadata": {},
   "outputs": [],
   "source": [
    "#training from scratch\n",
    "IMAGES_PATH=os.path.join('data','images')\n",
    "labels=['awake', \"drowsy\"]\n",
    "number_imgs=20"
   ]
  },
  {
   "cell_type": "code",
   "execution_count": 36,
   "metadata": {},
   "outputs": [
    {
     "name": "stdout",
     "output_type": "stream",
     "text": [
      "collecting images for ['awake', 'drowsy']\n",
      "Collecting images for awake, image number 0\n",
      "collecting images for ['awake', 'drowsy']\n",
      "Collecting images for drowsy, image number 0\n"
     ]
    }
   ],
   "source": [
    "\n",
    "cap=cv2.VideoCapture(0)\n",
    "for label in labels:\n",
    "    print(\"collecting images for {}\".format(labels))\n",
    "    time.sleep(5)\n",
    "\n",
    "      # Loop through image range\n",
    "    for img_num in range(number_imgs):\n",
    "        print('Collecting images for {}, image number {}'.format(label, img_num))\n",
    "        \n",
    "        # Webcam feed\n",
    "        ret, frame = cap.read()\n",
    "        \n",
    "        # Naming out image path\n",
    "        imgname = os.path.join(IMAGES_PATH, label+'.'+str(uuid.uuid1())+'.jpg')\n",
    "        \n",
    "        # Writes out image to file \n",
    "        cv2.imwrite(imgname, frame)\n",
    "        \n",
    "        # Render to the screen\n",
    "        cv2.imshow('Image Collection', frame)\n",
    "        \n",
    "        # 2 second delay between captures\n",
    "        time.sleep(2)\n",
    "        \n",
    "        if cv2.waitKey(10) & 0xFF == ord('q'):\n",
    "            break\n",
    "cap.release()\n",
    "cv2.destroyAllWindows()"
   ]
  },
  {
   "cell_type": "code",
   "execution_count": 37,
   "metadata": {},
   "outputs": [
    {
     "name": "stdout",
     "output_type": "stream",
     "text": [
      "data\\images\\awake.e2d4a0c9-16f3-11ee-9532-ccf9e4cdd623.jpg\n"
     ]
    }
   ],
   "source": [
    "print(os.path.join(IMAGES_PATH, labels[0]+'.'+str(uuid.uuid1())+'.jpg'))"
   ]
  },
  {
   "cell_type": "code",
   "execution_count": 38,
   "metadata": {},
   "outputs": [
    {
     "name": "stdout",
     "output_type": "stream",
     "text": [
      "Collecting images for awake\n",
      "Collecting images for awake, image number 0\n",
      "data\\images\\awake.e2dc9358-16f3-11ee-b3f6-ccf9e4cdd623.jpg\n",
      "Collecting images for awake, image number 1\n",
      "data\\images\\awake.e2dc9359-16f3-11ee-af0e-ccf9e4cdd623.jpg\n",
      "Collecting images for awake, image number 2\n",
      "data\\images\\awake.e2dc935a-16f3-11ee-9d58-ccf9e4cdd623.jpg\n",
      "Collecting images for awake, image number 3\n",
      "data\\images\\awake.e2dc935b-16f3-11ee-b7a7-ccf9e4cdd623.jpg\n",
      "Collecting images for awake, image number 4\n",
      "data\\images\\awake.e2dc935c-16f3-11ee-b9c1-ccf9e4cdd623.jpg\n",
      "Collecting images for awake, image number 5\n",
      "data\\images\\awake.e2dc935d-16f3-11ee-a774-ccf9e4cdd623.jpg\n",
      "Collecting images for awake, image number 6\n",
      "data\\images\\awake.e2dc935e-16f3-11ee-b86a-ccf9e4cdd623.jpg\n",
      "Collecting images for awake, image number 7\n",
      "data\\images\\awake.e2dc935f-16f3-11ee-910b-ccf9e4cdd623.jpg\n",
      "Collecting images for awake, image number 8\n",
      "data\\images\\awake.e2dc9360-16f3-11ee-bf17-ccf9e4cdd623.jpg\n",
      "Collecting images for awake, image number 9\n",
      "data\\images\\awake.e2dc9361-16f3-11ee-8c96-ccf9e4cdd623.jpg\n",
      "Collecting images for awake, image number 10\n",
      "data\\images\\awake.e2dc9362-16f3-11ee-a22a-ccf9e4cdd623.jpg\n",
      "Collecting images for awake, image number 11\n",
      "data\\images\\awake.e2dc9363-16f3-11ee-9227-ccf9e4cdd623.jpg\n",
      "Collecting images for awake, image number 12\n",
      "data\\images\\awake.e2dc9364-16f3-11ee-bca0-ccf9e4cdd623.jpg\n",
      "Collecting images for awake, image number 13\n",
      "data\\images\\awake.e2dc9365-16f3-11ee-b9a5-ccf9e4cdd623.jpg\n",
      "Collecting images for awake, image number 14\n",
      "data\\images\\awake.e2dc9366-16f3-11ee-ae25-ccf9e4cdd623.jpg\n",
      "Collecting images for awake, image number 15\n",
      "data\\images\\awake.e2dc9367-16f3-11ee-868a-ccf9e4cdd623.jpg\n",
      "Collecting images for awake, image number 16\n",
      "data\\images\\awake.e2dc9368-16f3-11ee-ab8e-ccf9e4cdd623.jpg\n",
      "Collecting images for awake, image number 17\n",
      "data\\images\\awake.e2dc9369-16f3-11ee-8ff5-ccf9e4cdd623.jpg\n",
      "Collecting images for awake, image number 18\n",
      "data\\images\\awake.e2dcb552-16f3-11ee-9e7b-ccf9e4cdd623.jpg\n",
      "Collecting images for awake, image number 19\n",
      "data\\images\\awake.e2dcb553-16f3-11ee-91ea-ccf9e4cdd623.jpg\n",
      "Collecting images for drowsy\n",
      "Collecting images for drowsy, image number 0\n",
      "data\\images\\drowsy.e2dcb554-16f3-11ee-ab9a-ccf9e4cdd623.jpg\n",
      "Collecting images for drowsy, image number 1\n",
      "data\\images\\drowsy.e2dcb555-16f3-11ee-bace-ccf9e4cdd623.jpg\n",
      "Collecting images for drowsy, image number 2\n",
      "data\\images\\drowsy.e2dcb556-16f3-11ee-b5f9-ccf9e4cdd623.jpg\n",
      "Collecting images for drowsy, image number 3\n",
      "data\\images\\drowsy.e2dcb557-16f3-11ee-8e7b-ccf9e4cdd623.jpg\n",
      "Collecting images for drowsy, image number 4\n",
      "data\\images\\drowsy.e2dcb558-16f3-11ee-b9a9-ccf9e4cdd623.jpg\n",
      "Collecting images for drowsy, image number 5\n",
      "data\\images\\drowsy.e2dcb559-16f3-11ee-87c8-ccf9e4cdd623.jpg\n",
      "Collecting images for drowsy, image number 6\n",
      "data\\images\\drowsy.e2dcb55a-16f3-11ee-aa03-ccf9e4cdd623.jpg\n",
      "Collecting images for drowsy, image number 7\n",
      "data\\images\\drowsy.e2dcb55b-16f3-11ee-a9ef-ccf9e4cdd623.jpg\n",
      "Collecting images for drowsy, image number 8\n",
      "data\\images\\drowsy.e2dcb55c-16f3-11ee-a362-ccf9e4cdd623.jpg\n",
      "Collecting images for drowsy, image number 9\n",
      "data\\images\\drowsy.e2dcb55d-16f3-11ee-9e3b-ccf9e4cdd623.jpg\n",
      "Collecting images for drowsy, image number 10\n",
      "data\\images\\drowsy.e2dcb55e-16f3-11ee-a091-ccf9e4cdd623.jpg\n",
      "Collecting images for drowsy, image number 11\n",
      "data\\images\\drowsy.e2dcb55f-16f3-11ee-92ff-ccf9e4cdd623.jpg\n",
      "Collecting images for drowsy, image number 12\n",
      "data\\images\\drowsy.e2dcb560-16f3-11ee-b076-ccf9e4cdd623.jpg\n",
      "Collecting images for drowsy, image number 13\n",
      "data\\images\\drowsy.e2dcb561-16f3-11ee-81f8-ccf9e4cdd623.jpg\n",
      "Collecting images for drowsy, image number 14\n",
      "data\\images\\drowsy.e2dcb562-16f3-11ee-925d-ccf9e4cdd623.jpg\n",
      "Collecting images for drowsy, image number 15\n",
      "data\\images\\drowsy.e2dcb563-16f3-11ee-9359-ccf9e4cdd623.jpg\n",
      "Collecting images for drowsy, image number 16\n",
      "data\\images\\drowsy.e2dcb564-16f3-11ee-86d2-ccf9e4cdd623.jpg\n",
      "Collecting images for drowsy, image number 17\n",
      "data\\images\\drowsy.e2dcb565-16f3-11ee-b740-ccf9e4cdd623.jpg\n",
      "Collecting images for drowsy, image number 18\n",
      "data\\images\\drowsy.e2dcb566-16f3-11ee-8346-ccf9e4cdd623.jpg\n",
      "Collecting images for drowsy, image number 19\n",
      "data\\images\\drowsy.e2dcb567-16f3-11ee-b386-ccf9e4cdd623.jpg\n"
     ]
    }
   ],
   "source": [
    "for label in labels:\n",
    "    print('Collecting images for {}'.format(label))\n",
    "    for img_num in range(number_imgs):\n",
    "        print('Collecting images for {}, image number {}'.format(label, img_num))\n",
    "        imgname = os.path.join(IMAGES_PATH, label+'.'+str(uuid.uuid1())+'.jpg')\n",
    "        print(imgname)   "
   ]
  },
  {
   "cell_type": "code",
   "execution_count": 39,
   "metadata": {},
   "outputs": [
    {
     "name": "stdout",
     "output_type": "stream",
     "text": [
      "Requirement already satisfied: pyqt5 in c:\\users\\shriya\\anaconda3\\lib\\site-packages (5.15.9)\n",
      "Requirement already satisfied: lxml in c:\\users\\shriya\\anaconda3\\lib\\site-packages (4.9.2)\n",
      "Requirement already satisfied: PyQt5-sip<13,>=12.11 in c:\\users\\shriya\\anaconda3\\lib\\site-packages (from pyqt5) (12.11.0)\n",
      "Requirement already satisfied: PyQt5-Qt5>=5.15.2 in c:\\users\\shriya\\anaconda3\\lib\\site-packages (from pyqt5) (5.15.2)\n",
      "Note: you may need to restart the kernel to use updated packages.\n",
      "[WinError 2] The system cannot find the file specified: 'yolov5'\n",
      "c:\\Users\\Shriya\\OneDrive\\Desktop\\object_detect\\yolov5\\yolov5\n",
      "[WinError 3] The system cannot find the path specified: 'labelImg && pyrcc5 -o libs/resources.py resources.qrc'\n",
      "c:\\Users\\Shriya\\OneDrive\\Desktop\\object_detect\\yolov5\\yolov5\n"
     ]
    }
   ],
   "source": [
    "\n",
    "%pip install pyqt5 lxml --upgrade\n",
    "%cd yolov5\n",
    "%cd labelImg && pyrcc5 -o libs/resources.py resources.qrc"
   ]
  },
  {
   "cell_type": "code",
   "execution_count": 40,
   "metadata": {},
   "outputs": [
    {
     "name": "stderr",
     "output_type": "stream",
     "text": [
      "Downloading: \"https://github.com/ultralytics/yolov5/zipball/master\" to C:\\Users\\Shriya/.cache\\torch\\hub\\master.zip\n",
      "YOLOv5  2023-6-30 Python-3.10.9 torch-2.0.1+cpu CPU\n",
      "\n",
      "Fusing layers... \n",
      "YOLOv5s summary: 157 layers, 7055974 parameters, 0 gradients, 15.9 GFLOPs\n",
      "Adding AutoShape... \n"
     ]
    }
   ],
   "source": [
    "#load custom model\n",
    "model = torch.hub.load('ultralytics/yolov5', 'custom', path=r\"C:\\Users\\Shriya\\OneDrive\\Desktop\\object_detect\\yolov5\\runs\\train\\exp20\\weights\\last.pt\", force_reload= True)\n",
    "                       "
   ]
  },
  {
   "cell_type": "code",
   "execution_count": 42,
   "metadata": {},
   "outputs": [],
   "source": [
    "img = os.path.join('data', 'images', r\"C:\\Users\\Shriya\\OneDrive\\Desktop\\object_detect\\yolov5\\data\\images\\awake.e8cd3afd-1681-11ee-b22b-ccf9e4cdd623.jpg\")"
   ]
  },
  {
   "cell_type": "code",
   "execution_count": 43,
   "metadata": {},
   "outputs": [
    {
     "name": "stderr",
     "output_type": "stream",
     "text": [
      "image 1/1: 480x640 2 awakes\n",
      "Speed: 16.2ms pre-process, 289.5ms inference, 1.5ms NMS per image at shape (1, 3, 480, 640)\n"
     ]
    }
   ],
   "source": [
    "results = model(img)\n",
    "results.print()"
   ]
  },
  {
   "cell_type": "code",
   "execution_count": 44,
   "metadata": {},
   "outputs": [],
   "source": [
    "cap = cv2.VideoCapture(0)\n",
    "while cap.isOpened():\n",
    "    ret, frame = cap.read()\n",
    "    \n",
    "    # Make detections \n",
    "    results = model(frame)\n",
    "    \n",
    "    cv2.imshow('YOLO', np.squeeze(results.render()))\n",
    "    \n",
    "    if cv2.waitKey(10) & 0xFF == ord('q'):\n",
    "        break\n",
    "cap.release()\n",
    "cv2.destroyAllWindows()"
   ]
  }
 ],
 "metadata": {
  "kernelspec": {
   "display_name": "base",
   "language": "python",
   "name": "python3"
  },
  "language_info": {
   "codemirror_mode": {
    "name": "ipython",
    "version": 3
   },
   "file_extension": ".py",
   "mimetype": "text/x-python",
   "name": "python",
   "nbconvert_exporter": "python",
   "pygments_lexer": "ipython3",
   "version": "3.10.9"
  },
  "orig_nbformat": 4
 },
 "nbformat": 4,
 "nbformat_minor": 2
}
